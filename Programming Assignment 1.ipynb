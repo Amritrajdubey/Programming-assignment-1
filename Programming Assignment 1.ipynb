{
 "cells": [
  {
   "cell_type": "code",
   "execution_count": null,
   "id": "95b5a863",
   "metadata": {},
   "outputs": [],
   "source": [
    "1.\tWrite a Python program to print \"Hello Python\"?"
   ]
  },
  {
   "cell_type": "code",
   "execution_count": 8,
   "id": "eb70f022",
   "metadata": {},
   "outputs": [
    {
     "name": "stdout",
     "output_type": "stream",
     "text": [
      "Hello python\n"
     ]
    }
   ],
   "source": [
    "print('Hello python')"
   ]
  },
  {
   "cell_type": "code",
   "execution_count": null,
   "id": "b1e3079d",
   "metadata": {},
   "outputs": [],
   "source": [
    "2.\tWrite a Python program to do arithmetical operations addition and division.?"
   ]
  },
  {
   "cell_type": "code",
   "execution_count": 1,
   "id": "272cd75c",
   "metadata": {},
   "outputs": [
    {
     "name": "stdout",
     "output_type": "stream",
     "text": [
      "Enter name a  : 10\n",
      "enter name b  : 5\n",
      "15 50\n"
     ]
    }
   ],
   "source": [
    "a=int(input('Enter name a  : '))\n",
    "b=int(input('enter name b  : '))\n",
    "c=a+b\n",
    "d=a*b\n",
    "print(c,d)"
   ]
  },
  {
   "cell_type": "code",
   "execution_count": null,
   "id": "fec19ce5",
   "metadata": {},
   "outputs": [],
   "source": [
    "3.\tWrite a Python program to find the area of a triangle?"
   ]
  },
  {
   "cell_type": "code",
   "execution_count": 10,
   "id": "a3d6725c",
   "metadata": {},
   "outputs": [
    {
     "name": "stdout",
     "output_type": "stream",
     "text": [
      "Enter height of triangle  : 10\n",
      "Enter base of triangle  : 20\n",
      "100.0\n"
     ]
    }
   ],
   "source": [
    "h=int(input('Enter height of triangle  : '))\n",
    "b=int(input('Enter base of triangle  : '))\n",
    "Area = (h*b)/2\n",
    "print(Area)"
   ]
  },
  {
   "cell_type": "code",
   "execution_count": null,
   "id": "2593949a",
   "metadata": {},
   "outputs": [],
   "source": [
    "4.\tWrite a Python program to swap two variables?"
   ]
  },
  {
   "cell_type": "code",
   "execution_count": 13,
   "id": "d854b3ac",
   "metadata": {},
   "outputs": [
    {
     "name": "stdout",
     "output_type": "stream",
     "text": [
      "Enter 1st number  : 10\n",
      "Enter nd number  : 20\n",
      "30\n"
     ]
    }
   ],
   "source": [
    "a=int(input('Enter 1st number  : '))\n",
    "b=int(input('Enter nd number  : '))\n",
    "a=a+b\n",
    "print(a)"
   ]
  },
  {
   "cell_type": "code",
   "execution_count": null,
   "id": "e5e25cae",
   "metadata": {},
   "outputs": [],
   "source": [
    "5.\tWrite a Python program to generate a random number?"
   ]
  },
  {
   "cell_type": "code",
   "execution_count": 12,
   "id": "08c48b39",
   "metadata": {},
   "outputs": [
    {
     "name": "stdout",
     "output_type": "stream",
     "text": [
      "Enter number  58\n"
     ]
    }
   ],
   "source": [
    "a=int(input('Enter number  '))"
   ]
  }
 ],
 "metadata": {
  "kernelspec": {
   "display_name": "Python 3 (ipykernel)",
   "language": "python",
   "name": "python3"
  },
  "language_info": {
   "codemirror_mode": {
    "name": "ipython",
    "version": 3
   },
   "file_extension": ".py",
   "mimetype": "text/x-python",
   "name": "python",
   "nbconvert_exporter": "python",
   "pygments_lexer": "ipython3",
   "version": "3.9.7"
  }
 },
 "nbformat": 4,
 "nbformat_minor": 5
}
